{
  "nbformat": 4,
  "nbformat_minor": 0,
  "metadata": {
    "colab": {
      "provenance": [],
      "authorship_tag": "ABX9TyPFKFPP2NvrzEwjID0HBxiT",
      "include_colab_link": true
    },
    "kernelspec": {
      "name": "python3",
      "display_name": "Python 3"
    },
    "language_info": {
      "name": "python"
    }
  },
  "cells": [
    {
      "cell_type": "markdown",
      "metadata": {
        "id": "view-in-github",
        "colab_type": "text"
      },
      "source": [
        "<a href=\"https://colab.research.google.com/github/MarkusDarkus/Data_Analytics/blob/Test_tasks/Statistic_03.ipynb\" target=\"_parent\"><img src=\"https://colab.research.google.com/assets/colab-badge.svg\" alt=\"Open In Colab\"/></a>"
      ]
    },
    {
      "cell_type": "code",
      "execution_count": 1,
      "metadata": {
        "id": "jY2sjb_HNJ51"
      },
      "outputs": [],
      "source": [
        "import pandas as pd\n",
        "import numpy as np"
      ]
    },
    {
      "cell_type": "code",
      "source": [
        "import matplotlib.pyplot as plt\n",
        "plt.style.use('dark_background')"
      ],
      "metadata": {
        "id": "WFIgUKNmNWHH"
      },
      "execution_count": 2,
      "outputs": []
    },
    {
      "cell_type": "markdown",
      "source": [
        "# Закон Больших Чисел (LLN - law large numbers)"
      ],
      "metadata": {
        "id": "4Dx7NAVeN_CD"
      }
    },
    {
      "cell_type": "code",
      "source": [
        "np.random.randint(1,7)"
      ],
      "metadata": {
        "colab": {
          "base_uri": "https://localhost:8080/"
        },
        "id": "Uhn6kxJwNuA1",
        "outputId": "ec9f66a6-fc72-479b-e567-6bd46d2c990a"
      },
      "execution_count": 3,
      "outputs": [
        {
          "output_type": "execute_result",
          "data": {
            "text/plain": [
              "1"
            ]
          },
          "metadata": {},
          "execution_count": 3
        }
      ]
    },
    {
      "cell_type": "markdown",
      "source": [
        "**с увеличением размера выборки среднее начинает сходиться к среднему генеральной совокупности**"
      ],
      "metadata": {
        "id": "3ulc_I5oOWeG"
      }
    },
    {
      "cell_type": "code",
      "source": [
        "dice=pd.Series([1,2,3,4,5,6])"
      ],
      "metadata": {
        "id": "hl1sYhLsPAmy"
      },
      "execution_count": 4,
      "outputs": []
    },
    {
      "cell_type": "code",
      "source": [
        "dice.sample(10,replace=True)"
      ],
      "metadata": {
        "colab": {
          "base_uri": "https://localhost:8080/"
        },
        "id": "mdmuzPEmO3Uc",
        "outputId": "3dcc08c8-5f35-4799-cc98-fb18c3dc4a7c"
      },
      "execution_count": 5,
      "outputs": [
        {
          "output_type": "execute_result",
          "data": {
            "text/plain": [
              "3    4\n",
              "1    2\n",
              "1    2\n",
              "5    6\n",
              "1    2\n",
              "3    4\n",
              "4    5\n",
              "5    6\n",
              "2    3\n",
              "5    6\n",
              "dtype: int64"
            ]
          },
          "metadata": {},
          "execution_count": 5
        }
      ]
    },
    {
      "cell_type": "code",
      "source": [
        "dice.mean()"
      ],
      "metadata": {
        "colab": {
          "base_uri": "https://localhost:8080/"
        },
        "id": "4FHsSit6OgVY",
        "outputId": "93d0faf0-90c4-4a66-e3a4-58b8d30cbd47"
      },
      "execution_count": 6,
      "outputs": [
        {
          "output_type": "execute_result",
          "data": {
            "text/plain": [
              "3.5"
            ]
          },
          "metadata": {},
          "execution_count": 6
        }
      ]
    },
    {
      "cell_type": "code",
      "source": [],
      "metadata": {
        "colab": {
          "base_uri": "https://localhost:8080/"
        },
        "id": "byhZY9ivOyVS",
        "outputId": "081968d8-793e-4e56-cbbe-9e322de07499"
      },
      "execution_count": 9,
      "outputs": [
        {
          "output_type": "stream",
          "name": "stdout",
          "text": [
            "3.73\n",
            "3.5433333333333334\n",
            "3.5236363636363635\n",
            "3.520625\n",
            "3.4847619047619047\n",
            "3.519615384615385\n",
            "3.436451612903226\n",
            "3.431111111111111\n",
            "3.520243902439024\n",
            "3.4941304347826088\n",
            "3.4568627450980394\n",
            "3.4996428571428573\n",
            "3.488688524590164\n",
            "3.5125757575757577\n",
            "3.5249295774647886\n",
            "3.5092105263157896\n",
            "3.5238271604938274\n",
            "3.5277906976744187\n",
            "3.5065934065934066\n",
            "3.476770833333333\n"
          ]
        }
      ]
    },
    {
      "cell_type": "code",
      "source": [
        "res=[]\n",
        "for i in range(1,10000):\n",
        "  res.append(dice.sample(i,replace=True).mean())\n",
        "pd.Series(res).plot(grid=True)\n",
        "\n",
        "\n",
        "\n",
        "pd.Series([dice.sample(n, replace=True).mean() for n in range(1,1000)]).plot()"
      ],
      "metadata": {
        "colab": {
          "base_uri": "https://localhost:8080/",
          "height": 447
        },
        "id": "vQPByT1_PUX-",
        "outputId": "0f427011-0927-498b-83ba-18b97fa35fbd"
      },
      "execution_count": 15,
      "outputs": [
        {
          "output_type": "execute_result",
          "data": {
            "text/plain": [
              "<Axes: >"
            ]
          },
          "metadata": {},
          "execution_count": 15
        },
        {
          "output_type": "display_data",
          "data": {
            "text/plain": [
              "<Figure size 640x480 with 1 Axes>"
            ],
            "image/png": "[encoded data removed]"
          },
          "metadata": {}
        }
      ]
    },
    {
      "cell_type": "code",
      "source": [
        "t=dice.sample(1000, replace=True).to_frame().reset_index(drop=True)\n",
        "t['cum']=t[0].cumsum()\n",
        "t[\"sample_size\"]=range(1, 1001)\n",
        "t[\"mean\"]=t[\"cum\"]/t[\"sample_size\"]\n",
        "t.set_index('sample_size')[\"mean\"].plot(grid=True)"
      ],
      "metadata": {
        "colab": {
          "base_uri": "https://localhost:8080/",
          "height": 467
        },
        "id": "tfCJQIb-QCOp",
        "outputId": "91de2557-d7fb-4041-9cf3-2e45d869babc"
      },
      "execution_count": 26,
      "outputs": [
        {
          "output_type": "execute_result",
          "data": {
            "text/plain": [
              "<Axes: xlabel='sample_size'>"
            ]
          },
          "metadata": {},
          "execution_count": 26
        },
        {
          "output_type": "display_data",
          "data": {
            "text/plain": [
              "<Figure size 640x480 with 1 Axes>"
            ],
            "image/png": "[encoded data removed]"
          },
          "metadata": {}
        }
      ]
    },
    {
      "cell_type": "markdown",
      "source": [
        "# Центральная Предельная Теорема (CLT - central limit theorem)"
      ],
      "metadata": {
        "id": "0YfkmZISWks5"
      }
    },
    {
      "cell_type": "markdown",
      "source": [
        "**С увеличением семпла распределением становится близким к нормальному**"
      ],
      "metadata": {
        "id": "1faHCBIwWtTz"
      }
    },
    {
      "cell_type": "code",
      "source": [],
      "metadata": {
        "id": "awvxTxuUWsjr"
      },
      "execution_count": null,
      "outputs": []
    }
  ]
}