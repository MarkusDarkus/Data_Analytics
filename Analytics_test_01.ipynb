{
  "nbformat": 4,
  "nbformat_minor": 0,
  "metadata": {
    "colab": {
      "provenance": [],
      "authorship_tag": "ABX9TyMQatmqaq4Ky79zDNTDlVrk",
      "include_colab_link": true
    },
    "kernelspec": {
      "name": "python3",
      "display_name": "Python 3"
    },
    "language_info": {
      "name": "python"
    }
  },
  "cells": [
    {
      "cell_type": "markdown",
      "metadata": {
        "id": "view-in-github",
        "colab_type": "text"
      },
      "source": [
        "<a href=\"https://colab.research.google.com/github/MarkusDarkus/Data_Analytics/blob/main/Analytics_test_01.ipynb\" target=\"_parent\"><img src=\"https://colab.research.google.com/assets/colab-badge.svg\" alt=\"Open In Colab\"/></a>"
      ]
    },
    {
      "cell_type": "markdown",
      "source": [
        "The key aspect of ride-hailing is the price. It relies on technology to collect accurate tracking data so that a fair price can be calculated at the end of the trip. Fortunately, our riders are quick to tell us when they overpaid and we can use that feedback to improve our product.\n",
        "Variables in the file:\n",
        "\n",
        "order_id_new, order_try_id_new - id of an order\n",
        "\n",
        "calc_created- time when the order was created\n",
        "\n",
        "metered_price, distance, duration- actual price, distance and duration of a ride\n",
        "\n",
        "upfront_price- promised to the rider price, based on predicted duration (predicted_duration) and distance (predicted_distance)\n",
        "\n",
        "distance - ride distance\n",
        "\n",
        "duration - ride duration\n",
        "\n",
        "gps_confidence- indicator for good GPS connection (1 - good one, 0 - bad one)\n",
        "\n",
        "entered_by- who entered the address\n",
        "\n",
        "b_state- state of a ride (finished implies that the ride was actually done)\n",
        "\n",
        "dest_change_number- number of destination changes by a rider\n",
        "\n",
        "predicted distance - predicted duration of a ride based on the pickup and dropoff points entered by the rider requesting a car\n",
        "\n",
        "predicted duration - predicted duration of a ride based on the pickup and dropoff points entered by the rider requesting a car\n",
        "\n",
        "prediction_price_type- internal variable for the type of prediction:\n",
        "\n",
        "upfront, prediction - prediction happened before the ride\n",
        "\n",
        "upfront_destination_changed - prediction happened after rider changed destination during the ride\n",
        "\n",
        "change_reason_pricing - records due to whose action the price changed\n",
        "\n",
        "ticket_id_new - id for customer support ticket\n",
        "# EDA"
      ],
      "metadata": {
        "id": "j6kJ-FXRXOyX"
      }
    },
    {
      "cell_type": "markdown",
      "source": [
        "https://drive.google.com/file/d/1ZNLnbwS3hnhjy3_6CYBcSu_72PCEcnVd/view?usp=sharing"
      ],
      "metadata": {
        "id": "t3Ejq2raXaRz"
      }
    },
    {
      "cell_type": "code",
      "source": [
        "! gdown --id 1ZNLnbwS3hnhjy3_6CYBcSu_72PCEcnVd"
      ],
      "metadata": {
        "colab": {
          "base_uri": "https://localhost:8080/"
        },
        "id": "akj2sl6aXRgp",
        "outputId": "cedeb7ab-f2b1-4262-803e-fc776f346b55"
      },
      "execution_count": 218,
      "outputs": [
        {
          "output_type": "stream",
          "name": "stdout",
          "text": [
            "/usr/local/lib/python3.10/dist-packages/gdown/cli.py:121: FutureWarning: Option `--id` was deprecated in version 4.3.1 and will be removed in 5.0. You don't need to pass it anymore to use a file ID.\n",
            "  warnings.warn(\n",
            "Downloading...\n",
            "From: https://drive.google.com/uc?id=1ZNLnbwS3hnhjy3_6CYBcSu_72PCEcnVd\n",
            "To: /content/Analytical_Task_2 (taxi startup).csv\n",
            "100% 792k/792k [00:00<00:00, 24.6MB/s]\n"
          ]
        }
      ]
    },
    {
      "cell_type": "code",
      "source": [
        "import pandas as pd\n",
        "import numpy as np\n",
        "data=pd.read_csv(\"Analytical_Task_2 (taxi startup).csv\")"
      ],
      "metadata": {
        "id": "_3OeflWrXhgq"
      },
      "execution_count": 219,
      "outputs": []
    },
    {
      "cell_type": "code",
      "source": [
        "data.head(1)"
      ],
      "metadata": {
        "colab": {
          "base_uri": "https://localhost:8080/",
          "height": 191
        },
        "id": "fFNV51tGXrco",
        "outputId": "4247070c-d04f-4009-8d14-4d2427d46fa9"
      },
      "execution_count": 220,
      "outputs": [
        {
          "output_type": "execute_result",
          "data": {
            "text/plain": [
              "   order_id_new  order_try_id_new        calc_created  metered_price  \\\n",
              "0            22                22  2020-02-02 3:37:31           4.04   \n",
              "\n",
              "   upfront_price  distance  duration  gps_confidence entered_by   b_state  \\\n",
              "0           10.0      2839       700               1     client  finished   \n",
              "\n",
              "   ...  device_token rider_app_version  order_state  order_try_state  \\\n",
              "0  ...           NaN           CI.4.17     finished         finished   \n",
              "\n",
              "  driver_app_version  driver_device_uid_new     device_name eu_indicator  \\\n",
              "0            DA.4.37                   1596  Xiaomi Redmi 6            1   \n",
              "\n",
              "  overpaid_ride_ticket fraud_score  \n",
              "0                    0     -1383.0  \n",
              "\n",
              "[1 rows x 26 columns]"
            ],
            "text/html": [
              "\n",
              "  <div id=\"df-ddea2e7c-4360-4e62-aeec-789bdf220a48\">\n",
              "    <div class=\"colab-df-container\">\n",
              "      <div>\n",
              "<style scoped>\n",
              "    .dataframe tbody tr th:only-of-type {\n",
              "        vertical-align: middle;\n",
              "    }\n",
              "\n",
              "    .dataframe tbody tr th {\n",
              "        vertical-align: top;\n",
              "    }\n",
              "\n",
              "    .dataframe thead th {\n",
              "        text-align: right;\n",
              "    }\n",
              "</style>\n",
              "<table border=\"1\" class=\"dataframe\">\n",
              "  <thead>\n",
              "    <tr style=\"text-align: right;\">\n",
              "      <th></th>\n",
              "      <th>order_id_new</th>\n",
              "      <th>order_try_id_new</th>\n",
              "      <th>calc_created</th>\n",
              "      <th>metered_price</th>\n",
              "      <th>upfront_price</th>\n",
              "      <th>distance</th>\n",
              "      <th>duration</th>\n",
              "      <th>gps_confidence</th>\n",
              "      <th>entered_by</th>\n",
              "      <th>b_state</th>\n",
              "      <th>...</th>\n",
              "      <th>device_token</th>\n",
              "      <th>rider_app_version</th>\n",
              "      <th>order_state</th>\n",
              "      <th>order_try_state</th>\n",
              "      <th>driver_app_version</th>\n",
              "      <th>driver_device_uid_new</th>\n",
              "      <th>device_name</th>\n",
              "      <th>eu_indicator</th>\n",
              "      <th>overpaid_ride_ticket</th>\n",
              "      <th>fraud_score</th>\n",
              "    </tr>\n",
              "  </thead>\n",
              "  <tbody>\n",
              "    <tr>\n",
              "      <th>0</th>\n",
              "      <td>22</td>\n",
              "      <td>22</td>\n",
              "      <td>2020-02-02 3:37:31</td>\n",
              "      <td>4.04</td>\n",
              "      <td>10.0</td>\n",
              "      <td>2839</td>\n",
              "      <td>700</td>\n",
              "      <td>1</td>\n",
              "      <td>client</td>\n",
              "      <td>finished</td>\n",
              "      <td>...</td>\n",
              "      <td>NaN</td>\n",
              "      <td>CI.4.17</td>\n",
              "      <td>finished</td>\n",
              "      <td>finished</td>\n",
              "      <td>DA.4.37</td>\n",
              "      <td>1596</td>\n",
              "      <td>Xiaomi Redmi 6</td>\n",
              "      <td>1</td>\n",
              "      <td>0</td>\n",
              "      <td>-1383.0</td>\n",
              "    </tr>\n",
              "  </tbody>\n",
              "</table>\n",
              "<p>1 rows × 26 columns</p>\n",
              "</div>\n",
              "      <button class=\"colab-df-convert\" onclick=\"convertToInteractive('df-ddea2e7c-4360-4e62-aeec-789bdf220a48')\"\n",
              "              title=\"Convert this dataframe to an interactive table.\"\n",
              "              style=\"display:none;\">\n",
              "        \n",
              "  <svg xmlns=\"http://www.w3.org/2000/svg\" height=\"24px\"viewBox=\"0 0 24 24\"\n",
              "       width=\"24px\">\n",
              "    <path d=\"M0 0h24v24H0V0z\" fill=\"none\"/>\n",
              "    <path d=\"M18.56 5.44l.94 2.06.94-2.06 2.06-.94-2.06-.94-.94-2.06-.94 2.06-2.06.94zm-11 1L8.5 8.5l.94-2.06 2.06-.94-2.06-.94L8.5 2.5l-.94 2.06-2.06.94zm10 10l.94 2.06.94-2.06 2.06-.94-2.06-.94-.94-2.06-.94 2.06-2.06.94z\"/><path d=\"M17.41 7.96l-1.37-1.37c-.4-.4-.92-.59-1.43-.59-.52 0-1.04.2-1.43.59L10.3 9.45l-7.72 7.72c-.78.78-.78 2.05 0 2.83L4 21.41c.39.39.9.59 1.41.59.51 0 1.02-.2 1.41-.59l7.78-7.78 2.81-2.81c.8-.78.8-2.07 0-2.86zM5.41 20L4 18.59l7.72-7.72 1.47 1.35L5.41 20z\"/>\n",
              "  </svg>\n",
              "      </button>\n",
              "      \n",
              "  <style>\n",
              "    .colab-df-container {\n",
              "      display:flex;\n",
              "      flex-wrap:wrap;\n",
              "      gap: 12px;\n",
              "    }\n",
              "\n",
              "    .colab-df-convert {\n",
              "      background-color: #E8F0FE;\n",
              "      border: none;\n",
              "      border-radius: 50%;\n",
              "      cursor: pointer;\n",
              "      display: none;\n",
              "      fill: #1967D2;\n",
              "      height: 32px;\n",
              "      padding: 0 0 0 0;\n",
              "      width: 32px;\n",
              "    }\n",
              "\n",
              "    .colab-df-convert:hover {\n",
              "      background-color: #E2EBFA;\n",
              "      box-shadow: 0px 1px 2px rgba(60, 64, 67, 0.3), 0px 1px 3px 1px rgba(60, 64, 67, 0.15);\n",
              "      fill: #174EA6;\n",
              "    }\n",
              "\n",
              "    [theme=dark] .colab-df-convert {\n",
              "      background-color: #3B4455;\n",
              "      fill: #D2E3FC;\n",
              "    }\n",
              "\n",
              "    [theme=dark] .colab-df-convert:hover {\n",
              "      background-color: #434B5C;\n",
              "      box-shadow: 0px 1px 3px 1px rgba(0, 0, 0, 0.15);\n",
              "      filter: drop-shadow(0px 1px 2px rgba(0, 0, 0, 0.3));\n",
              "      fill: #FFFFFF;\n",
              "    }\n",
              "  </style>\n",
              "\n",
              "      <script>\n",
              "        const buttonEl =\n",
              "          document.querySelector('#df-ddea2e7c-4360-4e62-aeec-789bdf220a48 button.colab-df-convert');\n",
              "        buttonEl.style.display =\n",
              "          google.colab.kernel.accessAllowed ? 'block' : 'none';\n",
              "\n",
              "        async function convertToInteractive(key) {\n",
              "          const element = document.querySelector('#df-ddea2e7c-4360-4e62-aeec-789bdf220a48');\n",
              "          const dataTable =\n",
              "            await google.colab.kernel.invokeFunction('convertToInteractive',\n",
              "                                                     [key], {});\n",
              "          if (!dataTable) return;\n",
              "\n",
              "          const docLinkHtml = 'Like what you see? Visit the ' +\n",
              "            '<a target=\"_blank\" href=https://colab.research.google.com/notebooks/data_table.ipynb>data table notebook</a>'\n",
              "            + ' to learn more about interactive tables.';\n",
              "          element.innerHTML = '';\n",
              "          dataTable['output_type'] = 'display_data';\n",
              "          await google.colab.output.renderOutput(dataTable, element);\n",
              "          const docLink = document.createElement('div');\n",
              "          docLink.innerHTML = docLinkHtml;\n",
              "          element.appendChild(docLink);\n",
              "        }\n",
              "      </script>\n",
              "    </div>\n",
              "  </div>\n",
              "  "
            ]
          },
          "metadata": {},
          "execution_count": 220
        }
      ]
    },
    {
      "cell_type": "code",
      "source": [
        "data.columns"
      ],
      "metadata": {
        "colab": {
          "base_uri": "https://localhost:8080/"
        },
        "id": "H-DMZJffY5U5",
        "outputId": "6e3e5842-57cb-4620-b74c-232a1ce814f4"
      },
      "execution_count": 221,
      "outputs": [
        {
          "output_type": "execute_result",
          "data": {
            "text/plain": [
              "Index(['order_id_new', 'order_try_id_new', 'calc_created', 'metered_price',\n",
              "       'upfront_price', 'distance', 'duration', 'gps_confidence', 'entered_by',\n",
              "       'b_state', 'dest_change_number', 'prediction_price_type',\n",
              "       'predicted_distance', 'predicted_duration', 'change_reason_pricing',\n",
              "       'ticket_id_new', 'device_token', 'rider_app_version', 'order_state',\n",
              "       'order_try_state', 'driver_app_version', 'driver_device_uid_new',\n",
              "       'device_name', 'eu_indicator', 'overpaid_ride_ticket', 'fraud_score'],\n",
              "      dtype='object')"
            ]
          },
          "metadata": {},
          "execution_count": 221
        }
      ]
    },
    {
      "cell_type": "code",
      "source": [
        "data[\"overpaid_ride_ticket\"].value_counts()"
      ],
      "metadata": {
        "colab": {
          "base_uri": "https://localhost:8080/"
        },
        "id": "z6_5XT0FZaGj",
        "outputId": "84702e08-d11b-401e-a58e-63d6c9d76cf1"
      },
      "execution_count": 222,
      "outputs": [
        {
          "output_type": "execute_result",
          "data": {
            "text/plain": [
              "0    4606\n",
              "1     337\n",
              "Name: overpaid_ride_ticket, dtype: int64"
            ]
          },
          "metadata": {},
          "execution_count": 222
        }
      ]
    },
    {
      "cell_type": "code",
      "source": [
        "#time transpose\n",
        "data[\"calc_created\"]=pd.to_datetime(data[\"calc_created\"],format='%Y-%m-%d %H:%M:%S')\n"
      ],
      "metadata": {
        "id": "ROIhYrkGZq4V"
      },
      "execution_count": 223,
      "outputs": []
    },
    {
      "cell_type": "code",
      "source": [
        "data.plot(x=\"calc_created\",y=\"metered_price\", kind=\"scatter\",figsize=(10,6))"
      ],
      "metadata": {
        "colab": {
          "base_uri": "https://localhost:8080/",
          "height": 559
        },
        "id": "oPEQL_UAadbR",
        "outputId": "08e10ca2-5e28-4d1a-aa4d-5637936906da"
      },
      "execution_count": 224,
      "outputs": [
        {
          "output_type": "execute_result",
          "data": {
            "text/plain": [
              "<Axes: xlabel='calc_created', ylabel='metered_price'>"
            ]
          },
          "metadata": {},
          "execution_count": 224
        },
        {
          "output_type": "display_data",
          "data": {
            "text/plain": [
              "<Figure size 1000x600 with 1 Axes>"
            ],
            "image/png": "[encoded data removed]"
          },
          "metadata": {}
        }
      ]
    },
    {
      "cell_type": "code",
      "source": [
        "data[\"calc_created\"].agg([\"min\", \"max\"])\n",
        "#data for 1.5 month"
      ],
      "metadata": {
        "colab": {
          "base_uri": "https://localhost:8080/"
        },
        "id": "_GWaZtX-bQJP",
        "outputId": "15c2d921-251f-42ad-effe-aa883d35e573"
      },
      "execution_count": 225,
      "outputs": [
        {
          "output_type": "execute_result",
          "data": {
            "text/plain": [
              "min   2020-02-02 00:01:16\n",
              "max   2020-03-13 23:52:07\n",
              "Name: calc_created, dtype: datetime64[ns]"
            ]
          },
          "metadata": {},
          "execution_count": 225
        }
      ]
    },
    {
      "cell_type": "code",
      "source": [
        "data.isna().mean()"
      ],
      "metadata": {
        "colab": {
          "base_uri": "https://localhost:8080/"
        },
        "id": "sJAoSUcCbd_T",
        "outputId": "cf4ddbbc-b61e-4a1c-dc25-2d81d328dcaa"
      },
      "execution_count": 226,
      "outputs": [
        {
          "output_type": "execute_result",
          "data": {
            "text/plain": [
              "order_id_new             0.000000\n",
              "order_try_id_new         0.000000\n",
              "calc_created             0.000000\n",
              "metered_price            0.004046\n",
              "upfront_price            0.310338\n",
              "distance                 0.000000\n",
              "duration                 0.000000\n",
              "gps_confidence           0.000000\n",
              "entered_by               0.000000\n",
              "b_state                  0.000000\n",
              "dest_change_number       0.000000\n",
              "prediction_price_type    0.004046\n",
              "predicted_distance       0.004046\n",
              "predicted_duration       0.004046\n",
              "change_reason_pricing    0.939713\n",
              "ticket_id_new            0.000000\n",
              "device_token             1.000000\n",
              "rider_app_version        0.003237\n",
              "order_state              0.000000\n",
              "order_try_state          0.000000\n",
              "driver_app_version       0.000000\n",
              "driver_device_uid_new    0.000000\n",
              "device_name              0.000000\n",
              "eu_indicator             0.000000\n",
              "overpaid_ride_ticket     0.000000\n",
              "fraud_score              0.558163\n",
              "dtype: float64"
            ]
          },
          "metadata": {},
          "execution_count": 226
        }
      ]
    },
    {
      "cell_type": "markdown",
      "source": [
        "# Let's go to Catboost))))"
      ],
      "metadata": {
        "id": "7t_j636ub0HT"
      }
    },
    {
      "cell_type": "code",
      "source": [
        "#!pip install catboost"
      ],
      "metadata": {
        "id": "ImrgDZg_b6RG"
      },
      "execution_count": 227,
      "outputs": []
    },
    {
      "cell_type": "code",
      "source": [
        "from catboost import CatBoostClassifier"
      ],
      "metadata": {
        "id": "vIoMFiHmb-uY"
      },
      "execution_count": 228,
      "outputs": []
    },
    {
      "cell_type": "code",
      "source": [
        "data[\"data_unix\"]=data[\"calc_created\"].astype(int)/10**9"
      ],
      "metadata": {
        "id": "fTgRa_plcxHM"
      },
      "execution_count": 229,
      "outputs": []
    },
    {
      "cell_type": "code",
      "source": [
        "data.columns"
      ],
      "metadata": {
        "colab": {
          "base_uri": "https://localhost:8080/"
        },
        "id": "CJXVL1IKcq_E",
        "outputId": "11b84970-3c3e-45c0-dbab-fe6991a8f785"
      },
      "execution_count": 230,
      "outputs": [
        {
          "output_type": "execute_result",
          "data": {
            "text/plain": [
              "Index(['order_id_new', 'order_try_id_new', 'calc_created', 'metered_price',\n",
              "       'upfront_price', 'distance', 'duration', 'gps_confidence', 'entered_by',\n",
              "       'b_state', 'dest_change_number', 'prediction_price_type',\n",
              "       'predicted_distance', 'predicted_duration', 'change_reason_pricing',\n",
              "       'ticket_id_new', 'device_token', 'rider_app_version', 'order_state',\n",
              "       'order_try_state', 'driver_app_version', 'driver_device_uid_new',\n",
              "       'device_name', 'eu_indicator', 'overpaid_ride_ticket', 'fraud_score',\n",
              "       'data_unix'],\n",
              "      dtype='object')"
            ]
          },
          "metadata": {},
          "execution_count": 230
        }
      ]
    },
    {
      "cell_type": "code",
      "source": [
        "data.select_dtypes(include=\"object\").isna().mean()"
      ],
      "metadata": {
        "colab": {
          "base_uri": "https://localhost:8080/"
        },
        "id": "0klyOcMDdeBz",
        "outputId": "998587fa-7218-4d28-e729-c8a3f7fa4c50"
      },
      "execution_count": 231,
      "outputs": [
        {
          "output_type": "execute_result",
          "data": {
            "text/plain": [
              "entered_by               0.000000\n",
              "b_state                  0.000000\n",
              "prediction_price_type    0.004046\n",
              "change_reason_pricing    0.939713\n",
              "rider_app_version        0.003237\n",
              "order_state              0.000000\n",
              "order_try_state          0.000000\n",
              "driver_app_version       0.000000\n",
              "device_name              0.000000\n",
              "dtype: float64"
            ]
          },
          "metadata": {},
          "execution_count": 231
        }
      ]
    },
    {
      "cell_type": "code",
      "source": [
        "data=data[(~data[\"prediction_price_type\"].isna()) & (~data[\"rider_app_version\"].isna())].copy()"
      ],
      "metadata": {
        "id": "Cg6iAVpieEy7"
      },
      "execution_count": 232,
      "outputs": []
    },
    {
      "cell_type": "code",
      "source": [
        "train=data.sample(frac=0.7, random_state=42).copy()\n",
        "val=data[~data.index.isin(train.index)].copy()"
      ],
      "metadata": {
        "id": "_AJh2q-WcSFc"
      },
      "execution_count": 233,
      "outputs": []
    },
    {
      "cell_type": "code",
      "source": [
        "data.select_dtypes(include=\"object\").columns"
      ],
      "metadata": {
        "colab": {
          "base_uri": "https://localhost:8080/"
        },
        "id": "ixDPYWrneyq-",
        "outputId": "a701c873-fde0-4dae-a39e-f3447bb0a825"
      },
      "execution_count": 234,
      "outputs": [
        {
          "output_type": "execute_result",
          "data": {
            "text/plain": [
              "Index(['entered_by', 'b_state', 'prediction_price_type',\n",
              "       'change_reason_pricing', 'rider_app_version', 'order_state',\n",
              "       'order_try_state', 'driver_app_version', 'device_name'],\n",
              "      dtype='object')"
            ]
          },
          "metadata": {},
          "execution_count": 234
        }
      ]
    },
    {
      "cell_type": "code",
      "source": [
        "X_col=['order_id_new', 'order_try_id_new', 'metered_price',\n",
        "       'upfront_price', 'distance', 'duration', 'gps_confidence', 'entered_by',\n",
        "       'b_state', 'dest_change_number', 'prediction_price_type',\n",
        "       'predicted_distance', 'predicted_duration',\n",
        "       'ticket_id_new', 'device_token', 'rider_app_version', 'order_state',\n",
        "       'order_try_state', 'driver_app_version', 'driver_device_uid_new',\n",
        "       'device_name', 'eu_indicator',  'fraud_score',\n",
        "       'data_unix']\n",
        "y_col=['overpaid_ride_ticket']\n",
        "cat_features=['entered_by', 'b_state', 'prediction_price_type', 'rider_app_version', 'order_state',\n",
        "       'order_try_state', 'driver_app_version', 'device_name']"
      ],
      "metadata": {
        "id": "ksa8kA4PdPNp"
      },
      "execution_count": 235,
      "outputs": []
    },
    {
      "cell_type": "code",
      "source": [
        "model =CatBoostClassifier(learning_rate=0.005,eval_metric=\"AUC\",cat_features=cat_features,verbose=100)"
      ],
      "metadata": {
        "id": "mBMdo_ascDiC"
      },
      "execution_count": 236,
      "outputs": []
    },
    {
      "cell_type": "code",
      "source": [
        "model.fit(train[X_col], train[y_col],\n",
        "          eval_set=(val[X_col], val[y_col]))"
      ],
      "metadata": {
        "colab": {
          "base_uri": "https://localhost:8080/"
        },
        "id": "zyz1Z3XSfP4a",
        "outputId": "d28ec127-a64f-4dd8-9a6f-f4095ad5ce49"
      },
      "execution_count": 237,
      "outputs": [
        {
          "output_type": "stream",
          "name": "stdout",
          "text": [
            "0:\ttest: 0.8134606\tbest: 0.8134606 (0)\ttotal: 18.2ms\tremaining: 18.2s\n",
            "100:\ttest: 0.8488624\tbest: 0.8488912 (93)\ttotal: 1.19s\tremaining: 10.6s\n",
            "200:\ttest: 0.8575905\tbest: 0.8575905 (200)\ttotal: 1.74s\tremaining: 6.93s\n",
            "300:\ttest: 0.8634117\tbest: 0.8634261 (298)\ttotal: 2.4s\tremaining: 5.58s\n",
            "400:\ttest: 0.8649407\tbest: 0.8654732 (378)\ttotal: 3.12s\tremaining: 4.66s\n",
            "500:\ttest: 0.8648040\tbest: 0.8655811 (458)\ttotal: 3.84s\tremaining: 3.83s\n",
            "600:\ttest: 0.8648616\tbest: 0.8655811 (458)\ttotal: 4.58s\tremaining: 3.04s\n",
            "700:\ttest: 0.8644010\tbest: 0.8655811 (458)\ttotal: 5.33s\tremaining: 2.27s\n",
            "800:\ttest: 0.8645593\tbest: 0.8655811 (458)\ttotal: 6.08s\tremaining: 1.51s\n",
            "900:\ttest: 0.8644694\tbest: 0.8655811 (458)\ttotal: 6.84s\tremaining: 751ms\n",
            "999:\ttest: 0.8648220\tbest: 0.8655811 (458)\ttotal: 7.56s\tremaining: 0us\n",
            "\n",
            "bestTest = 0.8655811075\n",
            "bestIteration = 458\n",
            "\n",
            "Shrink model to first 459 iterations.\n"
          ]
        },
        {
          "output_type": "execute_result",
          "data": {
            "text/plain": [
              "<catboost.core.CatBoostClassifier at 0x7f53644d7e50>"
            ]
          },
          "metadata": {},
          "execution_count": 237
        }
      ]
    },
    {
      "cell_type": "code",
      "source": [
        "fi=pd.DataFrame({'feature':X_col, 'f1':model.feature_importances_})"
      ],
      "metadata": {
        "id": "Bwp2N0MlgDjn"
      },
      "execution_count": 238,
      "outputs": []
    },
    {
      "cell_type": "code",
      "source": [
        "fi.sort_values('f1', ascending=False)"
      ],
      "metadata": {
        "colab": {
          "base_uri": "https://localhost:8080/",
          "height": 802
        },
        "id": "NFyckvwVgxxm",
        "outputId": "64fb57ba-c444-4a80-d78c-35e474376bf6"
      },
      "execution_count": 239,
      "outputs": [
        {
          "output_type": "execute_result",
          "data": {
            "text/plain": [
              "                  feature         f1\n",
              "2           metered_price  13.985340\n",
              "10  prediction_price_type  12.379858\n",
              "21           eu_indicator  12.107867\n",
              "22            fraud_score   8.901335\n",
              "6          gps_confidence   7.448661\n",
              "20            device_name   6.554602\n",
              "5                duration   5.469510\n",
              "3           upfront_price   5.262882\n",
              "18     driver_app_version   4.596941\n",
              "4                distance   4.086869\n",
              "0            order_id_new   2.992040\n",
              "23              data_unix   2.828778\n",
              "1        order_try_id_new   2.347073\n",
              "12     predicted_duration   2.330431\n",
              "13          ticket_id_new   2.075828\n",
              "15      rider_app_version   2.071351\n",
              "11     predicted_distance   1.902152\n",
              "19  driver_device_uid_new   1.702273\n",
              "9      dest_change_number   0.786529\n",
              "7              entered_by   0.164687\n",
              "16            order_state   0.004994\n",
              "14           device_token   0.000000\n",
              "17        order_try_state   0.000000\n",
              "8                 b_state   0.000000"
            ],
            "text/html": [
              "\n",
              "  <div id=\"df-c658b5cd-9930-42b0-b2c9-d20adac31759\">\n",
              "    <div class=\"colab-df-container\">\n",
              "      <div>\n",
              "<style scoped>\n",
              "    .dataframe tbody tr th:only-of-type {\n",
              "        vertical-align: middle;\n",
              "    }\n",
              "\n",
              "    .dataframe tbody tr th {\n",
              "        vertical-align: top;\n",
              "    }\n",
              "\n",
              "    .dataframe thead th {\n",
              "        text-align: right;\n",
              "    }\n",
              "</style>\n",
              "<table border=\"1\" class=\"dataframe\">\n",
              "  <thead>\n",
              "    <tr style=\"text-align: right;\">\n",
              "      <th></th>\n",
              "      <th>feature</th>\n",
              "      <th>f1</th>\n",
              "    </tr>\n",
              "  </thead>\n",
              "  <tbody>\n",
              "    <tr>\n",
              "      <th>2</th>\n",
              "      <td>metered_price</td>\n",
              "      <td>13.985340</td>\n",
              "    </tr>\n",
              "    <tr>\n",
              "      <th>10</th>\n",
              "      <td>prediction_price_type</td>\n",
              "      <td>12.379858</td>\n",
              "    </tr>\n",
              "    <tr>\n",
              "      <th>21</th>\n",
              "      <td>eu_indicator</td>\n",
              "      <td>12.107867</td>\n",
              "    </tr>\n",
              "    <tr>\n",
              "      <th>22</th>\n",
              "      <td>fraud_score</td>\n",
              "      <td>8.901335</td>\n",
              "    </tr>\n",
              "    <tr>\n",
              "      <th>6</th>\n",
              "      <td>gps_confidence</td>\n",
              "      <td>7.448661</td>\n",
              "    </tr>\n",
              "    <tr>\n",
              "      <th>20</th>\n",
              "      <td>device_name</td>\n",
              "      <td>6.554602</td>\n",
              "    </tr>\n",
              "    <tr>\n",
              "      <th>5</th>\n",
              "      <td>duration</td>\n",
              "      <td>5.469510</td>\n",
              "    </tr>\n",
              "    <tr>\n",
              "      <th>3</th>\n",
              "      <td>upfront_price</td>\n",
              "      <td>5.262882</td>\n",
              "    </tr>\n",
              "    <tr>\n",
              "      <th>18</th>\n",
              "      <td>driver_app_version</td>\n",
              "      <td>4.596941</td>\n",
              "    </tr>\n",
              "    <tr>\n",
              "      <th>4</th>\n",
              "      <td>distance</td>\n",
              "      <td>4.086869</td>\n",
              "    </tr>\n",
              "    <tr>\n",
              "      <th>0</th>\n",
              "      <td>order_id_new</td>\n",
              "      <td>2.992040</td>\n",
              "    </tr>\n",
              "    <tr>\n",
              "      <th>23</th>\n",
              "      <td>data_unix</td>\n",
              "      <td>2.828778</td>\n",
              "    </tr>\n",
              "    <tr>\n",
              "      <th>1</th>\n",
              "      <td>order_try_id_new</td>\n",
              "      <td>2.347073</td>\n",
              "    </tr>\n",
              "    <tr>\n",
              "      <th>12</th>\n",
              "      <td>predicted_duration</td>\n",
              "      <td>2.330431</td>\n",
              "    </tr>\n",
              "    <tr>\n",
              "      <th>13</th>\n",
              "      <td>ticket_id_new</td>\n",
              "      <td>2.075828</td>\n",
              "    </tr>\n",
              "    <tr>\n",
              "      <th>15</th>\n",
              "      <td>rider_app_version</td>\n",
              "      <td>2.071351</td>\n",
              "    </tr>\n",
              "    <tr>\n",
              "      <th>11</th>\n",
              "      <td>predicted_distance</td>\n",
              "      <td>1.902152</td>\n",
              "    </tr>\n",
              "    <tr>\n",
              "      <th>19</th>\n",
              "      <td>driver_device_uid_new</td>\n",
              "      <td>1.702273</td>\n",
              "    </tr>\n",
              "    <tr>\n",
              "      <th>9</th>\n",
              "      <td>dest_change_number</td>\n",
              "      <td>0.786529</td>\n",
              "    </tr>\n",
              "    <tr>\n",
              "      <th>7</th>\n",
              "      <td>entered_by</td>\n",
              "      <td>0.164687</td>\n",
              "    </tr>\n",
              "    <tr>\n",
              "      <th>16</th>\n",
              "      <td>order_state</td>\n",
              "      <td>0.004994</td>\n",
              "    </tr>\n",
              "    <tr>\n",
              "      <th>14</th>\n",
              "      <td>device_token</td>\n",
              "      <td>0.000000</td>\n",
              "    </tr>\n",
              "    <tr>\n",
              "      <th>17</th>\n",
              "      <td>order_try_state</td>\n",
              "      <td>0.000000</td>\n",
              "    </tr>\n",
              "    <tr>\n",
              "      <th>8</th>\n",
              "      <td>b_state</td>\n",
              "      <td>0.000000</td>\n",
              "    </tr>\n",
              "  </tbody>\n",
              "</table>\n",
              "</div>\n",
              "      <button class=\"colab-df-convert\" onclick=\"convertToInteractive('df-c658b5cd-9930-42b0-b2c9-d20adac31759')\"\n",
              "              title=\"Convert this dataframe to an interactive table.\"\n",
              "              style=\"display:none;\">\n",
              "        \n",
              "  <svg xmlns=\"http://www.w3.org/2000/svg\" height=\"24px\"viewBox=\"0 0 24 24\"\n",
              "       width=\"24px\">\n",
              "    <path d=\"M0 0h24v24H0V0z\" fill=\"none\"/>\n",
              "    <path d=\"M18.56 5.44l.94 2.06.94-2.06 2.06-.94-2.06-.94-.94-2.06-.94 2.06-2.06.94zm-11 1L8.5 8.5l.94-2.06 2.06-.94-2.06-.94L8.5 2.5l-.94 2.06-2.06.94zm10 10l.94 2.06.94-2.06 2.06-.94-2.06-.94-.94-2.06-.94 2.06-2.06.94z\"/><path d=\"M17.41 7.96l-1.37-1.37c-.4-.4-.92-.59-1.43-.59-.52 0-1.04.2-1.43.59L10.3 9.45l-7.72 7.72c-.78.78-.78 2.05 0 2.83L4 21.41c.39.39.9.59 1.41.59.51 0 1.02-.2 1.41-.59l7.78-7.78 2.81-2.81c.8-.78.8-2.07 0-2.86zM5.41 20L4 18.59l7.72-7.72 1.47 1.35L5.41 20z\"/>\n",
              "  </svg>\n",
              "      </button>\n",
              "      \n",
              "  <style>\n",
              "    .colab-df-container {\n",
              "      display:flex;\n",
              "      flex-wrap:wrap;\n",
              "      gap: 12px;\n",
              "    }\n",
              "\n",
              "    .colab-df-convert {\n",
              "      background-color: #E8F0FE;\n",
              "      border: none;\n",
              "      border-radius: 50%;\n",
              "      cursor: pointer;\n",
              "      display: none;\n",
              "      fill: #1967D2;\n",
              "      height: 32px;\n",
              "      padding: 0 0 0 0;\n",
              "      width: 32px;\n",
              "    }\n",
              "\n",
              "    .colab-df-convert:hover {\n",
              "      background-color: #E2EBFA;\n",
              "      box-shadow: 0px 1px 2px rgba(60, 64, 67, 0.3), 0px 1px 3px 1px rgba(60, 64, 67, 0.15);\n",
              "      fill: #174EA6;\n",
              "    }\n",
              "\n",
              "    [theme=dark] .colab-df-convert {\n",
              "      background-color: #3B4455;\n",
              "      fill: #D2E3FC;\n",
              "    }\n",
              "\n",
              "    [theme=dark] .colab-df-convert:hover {\n",
              "      background-color: #434B5C;\n",
              "      box-shadow: 0px 1px 3px 1px rgba(0, 0, 0, 0.15);\n",
              "      filter: drop-shadow(0px 1px 2px rgba(0, 0, 0, 0.3));\n",
              "      fill: #FFFFFF;\n",
              "    }\n",
              "  </style>\n",
              "\n",
              "      <script>\n",
              "        const buttonEl =\n",
              "          document.querySelector('#df-c658b5cd-9930-42b0-b2c9-d20adac31759 button.colab-df-convert');\n",
              "        buttonEl.style.display =\n",
              "          google.colab.kernel.accessAllowed ? 'block' : 'none';\n",
              "\n",
              "        async function convertToInteractive(key) {\n",
              "          const element = document.querySelector('#df-c658b5cd-9930-42b0-b2c9-d20adac31759');\n",
              "          const dataTable =\n",
              "            await google.colab.kernel.invokeFunction('convertToInteractive',\n",
              "                                                     [key], {});\n",
              "          if (!dataTable) return;\n",
              "\n",
              "          const docLinkHtml = 'Like what you see? Visit the ' +\n",
              "            '<a target=\"_blank\" href=https://colab.research.google.com/notebooks/data_table.ipynb>data table notebook</a>'\n",
              "            + ' to learn more about interactive tables.';\n",
              "          element.innerHTML = '';\n",
              "          dataTable['output_type'] = 'display_data';\n",
              "          await google.colab.output.renderOutput(dataTable, element);\n",
              "          const docLink = document.createElement('div');\n",
              "          docLink.innerHTML = docLinkHtml;\n",
              "          element.appendChild(docLink);\n",
              "        }\n",
              "      </script>\n",
              "    </div>\n",
              "  </div>\n",
              "  "
            ]
          },
          "metadata": {},
          "execution_count": 239
        }
      ]
    },
    {
      "cell_type": "code",
      "source": [
        "fi.sort_values('f1', ascending=False).set_index('feature').plot(kind='bar', figsize=(10,6))"
      ],
      "metadata": {
        "colab": {
          "base_uri": "https://localhost:8080/",
          "height": 703
        },
        "id": "6xXLM9g7hJsh",
        "outputId": "d9a2c08b-bb7e-458c-d3ec-c552bc36b354"
      },
      "execution_count": 242,
      "outputs": [
        {
          "output_type": "execute_result",
          "data": {
            "text/plain": [
              "<Axes: xlabel='feature'>"
            ]
          },
          "metadata": {},
          "execution_count": 242
        },
        {
          "output_type": "display_data",
          "data": {
            "text/plain": [
              "<Figure size 1000x600 with 1 Axes>"
            ],
            "image/png": "[encoded data removed]"
          },
          "metadata": {}
        }
      ]
    },
    {
      "cell_type": "code",
      "source": [
        "data[\"metered_price\"].hist()"
      ],
      "metadata": {
        "id": "jBn0PL-LiD2f",
        "outputId": "6a05146d-75c7-48f3-ae38-4bd51aee8588",
        "colab": {
          "base_uri": "https://localhost:8080/",
          "height": 447
        }
      },
      "execution_count": 244,
      "outputs": [
        {
          "output_type": "execute_result",
          "data": {
            "text/plain": [
              "<Axes: >"
            ]
          },
          "metadata": {},
          "execution_count": 244
        },
        {
          "output_type": "display_data",
          "data": {
            "text/plain": [
              "<Figure size 640x480 with 1 Axes>"
            ],
            "image/png": "[encoded data removed]"
          },
          "metadata": {}
        }
      ]
    },
    {
      "cell_type": "code",
      "source": [],
      "metadata": {
        "id": "gjstc9vBiiIY"
      },
      "execution_count": null,
      "outputs": []
    }
  ]
}